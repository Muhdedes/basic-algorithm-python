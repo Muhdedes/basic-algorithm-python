{
 "cells": [
  {
   "cell_type": "code",
   "execution_count": 1,
   "metadata": {},
   "outputs": [
    {
     "name": "stdout",
     "output_type": "stream",
     "text": [
      "l like programming\n",
      "because l pround to make something new\n"
     ]
    }
   ],
   "source": [
    "#membuat 2 fungsi\n",
    "def fungsi1():\n",
    "    print(\"because l pround to make something new\")\n",
    "def fungsi2():\n",
    "    print(\"l like programming\")\n",
    "fungsi2()\n",
    "fungsi1()"
   ]
  },
  {
   "cell_type": "code",
   "execution_count": 2,
   "metadata": {},
   "outputs": [
    {
     "ename": "NameError",
     "evalue": "name 'fungsi' is not defined",
     "output_type": "error",
     "traceback": [
      "\u001b[1;31m---------------------------------------------------------------------------\u001b[0m",
      "\u001b[1;31mNameError\u001b[0m                                 Traceback (most recent call last)",
      "\u001b[1;32m<ipython-input-2-2aacbb31dd5a>\u001b[0m in \u001b[0;36m<module>\u001b[1;34m\u001b[0m\n\u001b[0;32m      2\u001b[0m \u001b[1;32mdef\u001b[0m \u001b[0mfungsi1\u001b[0m\u001b[1;33m(\u001b[0m\u001b[0mperkenalandiri\u001b[0m\u001b[1;33m)\u001b[0m\u001b[1;33m:\u001b[0m\u001b[1;33m\u001b[0m\u001b[1;33m\u001b[0m\u001b[0m\n\u001b[0;32m      3\u001b[0m     \u001b[0mprint\u001b[0m\u001b[1;33m(\u001b[0m\u001b[0mperkenalandiri\u001b[0m\u001b[1;33m)\u001b[0m\u001b[1;33m\u001b[0m\u001b[1;33m\u001b[0m\u001b[0m\n\u001b[1;32m----> 4\u001b[1;33m \u001b[0mfungsi\u001b[0m\u001b[1;33m(\u001b[0m\u001b[1;34m\"perkenalkan nama saya Muhammad Dede Supriadi\"\u001b[0m\u001b[1;33m)\u001b[0m\u001b[1;33m\u001b[0m\u001b[1;33m\u001b[0m\u001b[0m\n\u001b[0m\u001b[0;32m      5\u001b[0m \u001b[1;33m\u001b[0m\u001b[0m\n\u001b[0;32m      6\u001b[0m \u001b[1;31m#membuat fungsi dan parameter\u001b[0m\u001b[1;33m\u001b[0m\u001b[1;33m\u001b[0m\u001b[1;33m\u001b[0m\u001b[0m\n",
      "\u001b[1;31mNameError\u001b[0m: name 'fungsi' is not defined"
     ]
    }
   ],
   "source": [
    "#membuat fungsi dan parameter\n",
    "def fungsi1(perkenalandiri):\n",
    "    print(perkenalandiri)\n",
    "fungsi(\"perkenalkan nama saya Muhammad Dede Supriadi\")\n",
    "\n",
    "#membuat fungsi dan parameter\n",
    "def luas_persegipanjang(panjang,lebar):\n",
    "    luas=panjang*lebar\n",
    "    print(\"luas persegi panjang adalah\", luas)\n",
    "luas_persegipanjang(22,6)"
   ]
  },
  {
   "cell_type": "code",
   "execution_count": 1,
   "metadata": {},
   "outputs": [
    {
     "name": "stdout",
     "output_type": "stream",
     "text": [
      "masukan nilai panjang6\n",
      "masukan nilai lebar5\n",
      "luas persegi panjang 30\n",
      "masukan nilai tinggi6\n",
      "masukan nilai panjang6\n",
      "masukan nilai lebar5\n",
      "volume balok 180\n"
     ]
    }
   ],
   "source": [
    "#membuat fungsi return\n",
    "#rumus luas=p*l\n",
    "\n",
    "def luas_persegipanjang():\n",
    "    p=int(input(\"masukan nilai panjang\"))\n",
    "    l=int(input(\"masukan nilai lebar\"))\n",
    "    luas=p*l\n",
    "    return luas\n",
    "    \n",
    "def volume_balok():\n",
    "    t= int(input(\"masukan nilai tinggi\"))\n",
    "    volume=luas_persegipanjang()*t\n",
    "    return volume\n",
    "\n",
    "print(\"luas persegi panjang\",luas_persegipanjang())\n",
    "print(\"volume balok\",volume_balok())"
   ]
  },
  {
   "cell_type": "code",
   "execution_count": 2,
   "metadata": {},
   "outputs": [
    {
     "name": "stdout",
     "output_type": "stream",
     "text": [
      "masukan angka pertama8\n",
      "masukan angka kedua7\n",
      "angka pertama sama dengan angka kedua adalah False\n",
      "angka pertama lebih besar daripada angka kedua False\n"
     ]
    }
   ],
   "source": [
    "#operasi dua bilangan\n",
    "angka_1=float(input(\"masukan angka pertama\"))\n",
    "angka_2=float(input(\"masukan angka kedua\"))\n",
    "#b\n",
    "\n",
    "def fungsi_operator1():\n",
    "    operator1=angka_1==angka_2\n",
    "    print(\"angka pertama sama dengan angka kedua adalah\",operator1)\n",
    "def fungsi_operator2():\n",
    "    operator2=angka_2>angka_2\n",
    "    print(\"angka pertama lebih besar daripada angka kedua\",operator2)\n",
    "fungsi_operator1()\n",
    "fungsi_operator2()"
   ]
  },
  {
   "cell_type": "code",
   "execution_count": null,
   "metadata": {},
   "outputs": [],
   "source": []
  },
  {
   "cell_type": "code",
   "execution_count": null,
   "metadata": {},
   "outputs": [],
   "source": []
  },
  {
   "cell_type": "code",
   "execution_count": null,
   "metadata": {},
   "outputs": [],
   "source": []
  },
  {
   "cell_type": "code",
   "execution_count": null,
   "metadata": {},
   "outputs": [],
   "source": []
  },
  {
   "cell_type": "code",
   "execution_count": null,
   "metadata": {},
   "outputs": [],
   "source": []
  },
  {
   "cell_type": "code",
   "execution_count": null,
   "metadata": {},
   "outputs": [],
   "source": []
  },
  {
   "cell_type": "code",
   "execution_count": null,
   "metadata": {},
   "outputs": [],
   "source": []
  },
  {
   "cell_type": "code",
   "execution_count": null,
   "metadata": {},
   "outputs": [],
   "source": []
  },
  {
   "cell_type": "code",
   "execution_count": null,
   "metadata": {},
   "outputs": [],
   "source": []
  },
  {
   "cell_type": "code",
   "execution_count": null,
   "metadata": {},
   "outputs": [],
   "source": []
  }
 ],
 "metadata": {
  "kernelspec": {
   "display_name": "Python 3",
   "language": "python",
   "name": "python3"
  },
  "language_info": {
   "codemirror_mode": {
    "name": "ipython",
    "version": 3
   },
   "file_extension": ".py",
   "mimetype": "text/x-python",
   "name": "python",
   "nbconvert_exporter": "python",
   "pygments_lexer": "ipython3",
   "version": "3.8.3"
  }
 },
 "nbformat": 4,
 "nbformat_minor": 4
}
